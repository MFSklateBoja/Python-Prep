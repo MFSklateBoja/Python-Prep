{
 "cells": [
  {
   "cell_type": "code",
   "execution_count": 20,
   "metadata": {},
   "outputs": [],
   "source": [
    "import unittest\n",
    "\n",
    "class CajaNegraTest(unittest.TestCase):\n",
    "\n",
    "    def test_suma_dos_positivos(self):\n",
    "        num_1 = 10\n",
    "        num_2 = 5\n",
    "\n",
    "        resultado = suma(num_1, num_2)\n",
    "\n",
    "        self.assertEqual(resultado, 15)\n",
    "\n",
    "    def test_suma_dos_negativos(self):\n",
    "        num_1 = -10\n",
    "        num_2 = -7\n",
    "\n",
    "        resultado = suma(num_1, num_2)\n",
    "\n",
    "        self.assertEqual(resultado, -17)"
   ]
  },
  {
   "cell_type": "code",
   "execution_count": 10,
   "metadata": {},
   "outputs": [],
   "source": [
    "def suma(num1, num2):\n",
    "    return num1 + num2"
   ]
  },
  {
   "cell_type": "code",
   "execution_count": 21,
   "metadata": {},
   "outputs": [
    {
     "name": "stderr",
     "output_type": "stream",
     "text": [
      "test_suma_dos_negativos (__main__.CajaNegraTest.test_suma_dos_negativos) ... ok\n",
      "test_suma_dos_positivos (__main__.CajaNegraTest.test_suma_dos_positivos) ... ok\n",
      "\n",
      "----------------------------------------------------------------------\n",
      "Ran 2 tests in 0.003s\n",
      "\n",
      "OK\n"
     ]
    },
    {
     "data": {
      "text/plain": [
       "<unittest.main.TestProgram at 0x22982a9ecf0>"
      ]
     },
     "execution_count": 21,
     "metadata": {},
     "output_type": "execute_result"
    }
   ],
   "source": [
    "unittest.main(argv=[''], verbosity=2, exit=False)\n",
    "#test_suma_dos_positivos(__main__.CajaNegraTest)\n",
    "#test_suma_dos_negativos(__main__.CajaNegraTest)"
   ]
  },
  {
   "cell_type": "code",
   "execution_count": 9,
   "metadata": {},
   "outputs": [
    {
     "name": "stdout",
     "output_type": "stream",
     "text": [
      "\"\"\"\n",
      "Python unit testing framework, based on Erich Gamma's JUnit and Kent Beck's\n",
      "Smalltalk testing framework (used with permission).\n",
      "\n",
      "This module contains the core framework classes that form the basis of\n",
      "specific test cases and suites (TestCase, TestSuite etc.), and also a\n",
      "text-based utility class for running the tests and reporting the results\n",
      " (TextTestRunner).\n",
      "\n",
      "Simple usage:\n",
      "\n",
      "    import unittest\n",
      "\n",
      "    class IntegerArithmeticTestCase(unittest.TestCase):\n",
      "        def testAdd(self):  # test method names begin with 'test'\n",
      "            self.assertEqual((1 + 2), 3)\n",
      "            self.assertEqual(0 + 1, 1)\n",
      "        def testMultiply(self):\n",
      "            self.assertEqual((0 * 10), 0)\n",
      "            self.assertEqual((5 * 8), 40)\n",
      "\n",
      "    if __name__ == '__main__':\n",
      "        unittest.main()\n",
      "\n",
      "Further information is available in the bundled documentation, and from\n",
      "\n",
      "  http://docs.python.org/library/unittest.html\n",
      "\n",
      "Copyright (c) 1999-2003 Steve Purcell\n",
      "Copyright (c) 2003-2010 Python Software Foundation\n",
      "This module is free software, and you may redistribute it and/or modify\n",
      "it under the same terms as Python itself, so long as this copyright message\n",
      "and disclaimer are retained in their original form.\n",
      "\n",
      "IN NO EVENT SHALL THE AUTHOR BE LIABLE TO ANY PARTY FOR DIRECT, INDIRECT,\n",
      "SPECIAL, INCIDENTAL, OR CONSEQUENTIAL DAMAGES ARISING OUT OF THE USE OF\n",
      "THIS CODE, EVEN IF THE AUTHOR HAS BEEN ADVISED OF THE POSSIBILITY OF SUCH\n",
      "DAMAGE.\n",
      "\n",
      "THE AUTHOR SPECIFICALLY DISCLAIMS ANY WARRANTIES, INCLUDING, BUT NOT\n",
      "LIMITED TO, THE IMPLIED WARRANTIES OF MERCHANTABILITY AND FITNESS FOR A\n",
      "PARTICULAR PURPOSE.  THE CODE PROVIDED HEREUNDER IS ON AN \"AS IS\" BASIS,\n",
      "AND THERE IS NO OBLIGATION WHATSOEVER TO PROVIDE MAINTENANCE,\n",
      "SUPPORT, UPDATES, ENHANCEMENTS, OR MODIFICATIONS.\n",
      "\"\"\"\n",
      "\n",
      "__all__ = ['TestResult', 'TestCase', 'IsolatedAsyncioTestCase', 'TestSuite',\n",
      "           'TextTestRunner', 'TestLoader', 'FunctionTestCase', 'main',\n",
      "           'defaultTestLoader', 'SkipTest', 'skip', 'skipIf', 'skipUnless',\n",
      "           'expectedFailure', 'TextTestResult', 'installHandler',\n",
      "           'registerResult', 'removeResult', 'removeHandler',\n",
      "           'addModuleCleanup', 'doModuleCleanups', 'enterModuleContext']\n",
      "\n",
      "# Expose obsolete functions for backwards compatibility\n",
      "# bpo-5846: Deprecated in Python 3.11, scheduled for removal in Python 3.13.\n",
      "__all__.extend(['getTestCaseNames', 'makeSuite', 'findTestCases'])\n",
      "\n",
      "__unittest = True\n",
      "\n",
      "from .result import TestResult\n",
      "from .case import (addModuleCleanup, TestCase, FunctionTestCase, SkipTest, skip,\n",
      "                   skipIf, skipUnless, expectedFailure, doModuleCleanups,\n",
      "                   enterModuleContext)\n",
      "from .suite import BaseTestSuite, TestSuite\n",
      "from .loader import TestLoader, defaultTestLoader\n",
      "from .main import TestProgram, main\n",
      "from .runner import TextTestRunner, TextTestResult\n",
      "from .signals import installHandler, registerResult, removeResult, removeHandler\n",
      "# IsolatedAsyncioTestCase will be imported lazily.\n",
      "from .loader import makeSuite, getTestCaseNames, findTestCases\n",
      "\n",
      "\n",
      "# Lazy import of IsolatedAsyncioTestCase from .async_case\n",
      "# It imports asyncio, which is relatively heavy, but most tests\n",
      "# do not need it.\n",
      "\n",
      "def __dir__():\n",
      "    return globals().keys() | {'IsolatedAsyncioTestCase'}\n",
      "\n",
      "def __getattr__(name):\n",
      "    if name == 'IsolatedAsyncioTestCase':\n",
      "        global IsolatedAsyncioTestCase\n",
      "        from .async_case import IsolatedAsyncioTestCase\n",
      "        return IsolatedAsyncioTestCase\n",
      "    raise AttributeError(f\"module {__name__!r} has no attribute {name!r}\")\n",
      "\n"
     ]
    }
   ],
   "source": [
    "# Print the content of the unittest module\n",
    "import unittest\n",
    "import inspect\n",
    "\n",
    "print(inspect.getsource(unittest))"
   ]
  }
 ],
 "metadata": {
  "kernelspec": {
   "display_name": "Python 3",
   "language": "python",
   "name": "python3"
  },
  "language_info": {
   "codemirror_mode": {
    "name": "ipython",
    "version": 3
   },
   "file_extension": ".py",
   "mimetype": "text/x-python",
   "name": "python",
   "nbconvert_exporter": "python",
   "pygments_lexer": "ipython3",
   "version": "3.12.1"
  }
 },
 "nbformat": 4,
 "nbformat_minor": 2
}
