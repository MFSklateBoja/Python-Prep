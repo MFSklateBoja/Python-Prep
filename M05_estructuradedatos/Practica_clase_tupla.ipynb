{
 "cells": [
  {
   "cell_type": "code",
   "execution_count": 1,
   "metadata": {},
   "outputs": [
    {
     "name": "stdout",
     "output_type": "stream",
     "text": [
      "martes\n"
     ]
    }
   ],
   "source": [
    "tupla_dias= ('lunes', 'martes', 'miércoles','jueves','viernes','sábado', 'domingo')\n",
    "\n",
    "print(tupla_dias[1])"
   ]
  },
  {
   "cell_type": "code",
   "execution_count": 8,
   "metadata": {},
   "outputs": [
    {
     "name": "stdout",
     "output_type": "stream",
     "text": [
      "['c', 'o', 'r', 'd', 'e', 'r', 'o']\n",
      "('c', 'o', 'r', 'd', 'e', 'r', 'o')\n"
     ]
    },
    {
     "data": {
      "text/plain": [
       "tuple"
      ]
     },
     "execution_count": 8,
     "metadata": {},
     "output_type": "execute_result"
    }
   ],
   "source": [
    "lista=list(\"cordero\")\n",
    "print(lista)\n",
    "tupla = tuple(lista)\n",
    "print(tupla)\n",
    "type(lista)\n",
    "type(tupla)"
   ]
  },
  {
   "cell_type": "code",
   "execution_count": 10,
   "metadata": {},
   "outputs": [
    {
     "name": "stdout",
     "output_type": "stream",
     "text": [
      "(11, 22, 'Henry')\n"
     ]
    }
   ],
   "source": [
    "#Empaquetado\n",
    "x=11\n",
    "y=22\n",
    "z='Henry'\n",
    "mi_tupla= x,y,z\n",
    "print(mi_tupla)"
   ]
  },
  {
   "cell_type": "code",
   "execution_count": 15,
   "metadata": {},
   "outputs": [
    {
     "name": "stdout",
     "output_type": "stream",
     "text": [
      "1 7 9\n",
      "1 7 9\n"
     ]
    }
   ],
   "source": [
    "tupla_impares = tuple([1,3,5,7,9])\n",
    "primero = tupla_impares[0]\n",
    "cuarto = tupla_impares[3]\n",
    "quinto = tupla_impares[4]\n",
    "print(primero, cuarto, quinto)\n",
    "primero, _, _, cuarto, quinto = tupla_impares\n",
    "print(primero, cuarto, quinto)"
   ]
  }
 ],
 "metadata": {
  "kernelspec": {
   "display_name": "Python 3",
   "language": "python",
   "name": "python3"
  },
  "language_info": {
   "codemirror_mode": {
    "name": "ipython",
    "version": 3
   },
   "file_extension": ".py",
   "mimetype": "text/x-python",
   "name": "python",
   "nbconvert_exporter": "python",
   "pygments_lexer": "ipython3",
   "version": "3.12.1"
  }
 },
 "nbformat": 4,
 "nbformat_minor": 2
}
