{
 "cells": [
  {
   "cell_type": "code",
   "execution_count": null,
   "metadata": {},
   "outputs": [],
   "source": [
    "colores = [\"rojo\",\"azul\",\"amarillo\"]\n",
    "numeros = [1, 4,5]\n",
    "lista_vacia = []\n",
    "\n",
    "print (colores)\n",
    "print (numeros)\n",
    "print (lista_vacia)"
   ]
  },
  {
   "cell_type": "code",
   "execution_count": null,
   "metadata": {},
   "outputs": [],
   "source": [
    "print (type(colores))\n",
    "print (type(numeros))\n",
    "print (type(lista_vacia))"
   ]
  },
  {
   "cell_type": "code",
   "execution_count": 2,
   "metadata": {},
   "outputs": [
    {
     "name": "stdout",
     "output_type": "stream",
     "text": [
      "violeta\n"
     ]
    }
   ],
   "source": [
    "mi_lista = [\"rojo\",\"azul\",\"amarillo\", \"violeta\",\"verde\", \"celeste\"]\n",
    "print(mi_lista[3])"
   ]
  },
  {
   "cell_type": "code",
   "execution_count": null,
   "metadata": {},
   "outputs": [],
   "source": [
    "#Slice\n",
    "print(mi_lista[0:2])\n",
    "print(mi_lista[0:])\n",
    "print(mi_lista[:2])\n"
   ]
  },
  {
   "cell_type": "code",
   "execution_count": 3,
   "metadata": {},
   "outputs": [
    {
     "name": "stdout",
     "output_type": "stream",
     "text": [
      "['rojo', 'azul', 'amarillo', 'violeta', 'verde', 'celeste', 'blanco']\n",
      "['rojo', 'azul', 'amarillo', 'negro', 'violeta', 'verde', 'celeste', 'blanco']\n",
      "['rojo', 'azul', 'amarillo', 'negro', 'violeta', 'verde', 'celeste', 'blanco', 'rosa', 'lila']\n"
     ]
    }
   ],
   "source": [
    "#Agregar elemento al final de la lista\n",
    "mi_lista.append(\"blanco\")\n",
    "print(mi_lista)\n",
    "\n",
    "#Insertar un elemento en un lugar especifico\n",
    "mi_lista.insert(3,\"negro\")\n",
    "print(mi_lista)\n",
    "\n",
    "#Agregar otra lista al final de la lista\n",
    "mi_lista.extend([\"rosa\",\"lila\"])\n",
    "print(mi_lista)"
   ]
  },
  {
   "cell_type": "code",
   "execution_count": 5,
   "metadata": {},
   "outputs": [
    {
     "data": {
      "text/plain": [
       "1"
      ]
     },
     "execution_count": 5,
     "metadata": {},
     "output_type": "execute_result"
    }
   ],
   "source": [
    "#Indice de un valor\n",
    "mi_lista.index(\"azul\")"
   ]
  },
  {
   "cell_type": "code",
   "execution_count": 6,
   "metadata": {},
   "outputs": [],
   "source": [
    "# Sacar un valor de la lista\n",
    "mi_lista.remove(\"amarillo\")"
   ]
  }
 ],
 "metadata": {
  "kernelspec": {
   "display_name": "Python 3",
   "language": "python",
   "name": "python3"
  },
  "language_info": {
   "codemirror_mode": {
    "name": "ipython",
    "version": 3
   },
   "file_extension": ".py",
   "mimetype": "text/x-python",
   "name": "python",
   "nbconvert_exporter": "python",
   "pygments_lexer": "ipython3",
   "version": "3.12.1"
  }
 },
 "nbformat": 4,
 "nbformat_minor": 2
}
