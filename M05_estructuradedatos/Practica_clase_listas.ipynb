{
 "cells": [
  {
   "cell_type": "code",
   "execution_count": 2,
   "metadata": {},
   "outputs": [
    {
     "name": "stdout",
     "output_type": "stream",
     "text": [
      "['rojo', 'azul', 'amarillo']\n",
      "[1, 4, 5]\n",
      "[]\n"
     ]
    }
   ],
   "source": [
    "colores = [\"rojo\",\"azul\",\"amarillo\"]\n",
    "numeros = [1, 4,5]\n",
    "lista_vacia = []\n",
    "\n",
    "print (colores)\n",
    "print (numeros)\n",
    "print (lista_vacia)"
   ]
  },
  {
   "cell_type": "code",
   "execution_count": 3,
   "metadata": {},
   "outputs": [
    {
     "name": "stdout",
     "output_type": "stream",
     "text": [
      "<class 'list'>\n",
      "<class 'list'>\n",
      "<class 'list'>\n"
     ]
    }
   ],
   "source": [
    "print (type(colores))\n",
    "print (type(numeros))\n",
    "print (type(lista_vacia))"
   ]
  },
  {
   "cell_type": "code",
   "execution_count": 4,
   "metadata": {},
   "outputs": [
    {
     "name": "stdout",
     "output_type": "stream",
     "text": [
      "violeta\n"
     ]
    }
   ],
   "source": [
    "mi_lista = [\"rojo\",\"azul\",\"amarillo\", \"violeta\",\"verde\", \"celeste\"]\n",
    "print(mi_lista[3])"
   ]
  },
  {
   "cell_type": "code",
   "execution_count": 5,
   "metadata": {},
   "outputs": [
    {
     "name": "stdout",
     "output_type": "stream",
     "text": [
      "['rojo', 'azul']\n",
      "['rojo', 'azul', 'amarillo', 'violeta', 'verde', 'celeste']\n",
      "['rojo', 'azul']\n"
     ]
    }
   ],
   "source": [
    "#Slice\n",
    "print(mi_lista[0:2])\n",
    "print(mi_lista[0:])\n",
    "print(mi_lista[:2])\n"
   ]
  },
  {
   "cell_type": "code",
   "execution_count": 6,
   "metadata": {},
   "outputs": [
    {
     "name": "stdout",
     "output_type": "stream",
     "text": [
      "['rojo', 'azul', 'amarillo', 'violeta', 'verde', 'celeste', 'blanco']\n",
      "['rojo', 'azul', 'amarillo', 'negro', 'violeta', 'verde', 'celeste', 'blanco']\n",
      "['rojo', 'azul', 'amarillo', 'negro', 'violeta', 'verde', 'celeste', 'blanco', 'rosa', 'lila']\n"
     ]
    }
   ],
   "source": [
    "#Agregar elemento al final de la lista\n",
    "mi_lista.append(\"blanco\")\n",
    "print(mi_lista)\n",
    "\n",
    "#Insertar un elemento en un lugar especifico\n",
    "mi_lista.insert(3,\"negro\")\n",
    "print(mi_lista)\n",
    "\n",
    "#Agregar otra lista al final de la lista\n",
    "mi_lista.extend([\"rosa\",\"lila\"])\n",
    "print(mi_lista)"
   ]
  },
  {
   "cell_type": "code",
   "execution_count": 7,
   "metadata": {},
   "outputs": [
    {
     "data": {
      "text/plain": [
       "1"
      ]
     },
     "execution_count": 7,
     "metadata": {},
     "output_type": "execute_result"
    }
   ],
   "source": [
    "#Indice de un valor\n",
    "mi_lista.index(\"azul\")"
   ]
  },
  {
   "cell_type": "code",
   "execution_count": 8,
   "metadata": {},
   "outputs": [],
   "source": [
    "# Sacar un valor de la lista\n",
    "mi_lista.remove(\"amarillo\")"
   ]
  },
  {
   "cell_type": "code",
   "execution_count": 12,
   "metadata": {},
   "outputs": [
    {
     "name": "stdout",
     "output_type": "stream",
     "text": [
      "blanco\n"
     ]
    }
   ],
   "source": [
    "#borrar el ultimo elemento de la lista\n",
    "ultimo = mi_lista.pop()\n",
    "print(ultimo)"
   ]
  },
  {
   "cell_type": "code",
   "execution_count": 13,
   "metadata": {},
   "outputs": [
    {
     "name": "stdout",
     "output_type": "stream",
     "text": [
      "['rojo', 'azul', 'negro', 'violeta', 'verde', 'celeste']\n"
     ]
    }
   ],
   "source": [
    "print(mi_lista)"
   ]
  },
  {
   "cell_type": "code",
   "execution_count": 24,
   "metadata": {},
   "outputs": [
    {
     "name": "stdout",
     "output_type": "stream",
     "text": [
      "[23, 22, 13]\n",
      "['violeta', 'verde', 'rojo', 'negro', 'celeste', 'azul']\n"
     ]
    }
   ],
   "source": [
    "lista =[22, 23, 13]\n",
    "lista*3\n",
    "lista.sort(reverse=True) #elementos ordenados en orden inverso\n",
    "print(lista)\n",
    "mi_lista.sort(reverse=True)  #elementos ordenados en orden inverso alfabeticamente\n",
    "print(lista)\n",
    "print(mi_lista)"
   ]
  }
 ],
 "metadata": {
  "kernelspec": {
   "display_name": "Python 3",
   "language": "python",
   "name": "python3"
  },
  "language_info": {
   "codemirror_mode": {
    "name": "ipython",
    "version": 3
   },
   "file_extension": ".py",
   "mimetype": "text/x-python",
   "name": "python",
   "nbconvert_exporter": "python",
   "pygments_lexer": "ipython3",
   "version": "3.12.1"
  }
 },
 "nbformat": 4,
 "nbformat_minor": 2
}
