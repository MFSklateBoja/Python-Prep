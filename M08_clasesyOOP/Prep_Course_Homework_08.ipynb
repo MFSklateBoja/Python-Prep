{
 "cells": [
  {
   "attachments": {},
   "cell_type": "markdown",
   "metadata": {},
   "source": [
    "## Clases y Programación Orientada a Objetos"
   ]
  },
  {
   "attachments": {},
   "cell_type": "markdown",
   "metadata": {},
   "source": [
    "1) Crear la clase vehículo que contenga los atributos:<br>\n",
    "Color<br>\n",
    "Si es moto, auto, camioneta ó camión<br>\n",
    "Cilindrada del motor"
   ]
  },
  {
   "cell_type": "code",
   "execution_count": 1,
   "metadata": {},
   "outputs": [],
   "source": [
    "class Vehiculo:\n",
    "    def __init__(self, color, tipodevehiculo, cilindrada):\n",
    "        self.color = color\n",
    "        self.tipodevehiculo = tipodevehiculo\n",
    "        self.cilindrada = cilindrada\n",
    "        "
   ]
  },
  {
   "attachments": {},
   "cell_type": "markdown",
   "metadata": {},
   "source": [
    "2) A la clase Vehiculo creada en el punto 1, agregar los siguientes métodos:<br>\n",
    "Acelerar<br>\n",
    "Frenar<br>\n",
    "Doblar<br>"
   ]
  },
  {
   "cell_type": "code",
   "execution_count": 2,
   "metadata": {},
   "outputs": [],
   "source": [
    "class Vehiculo:\n",
    "    def __init__(self, color, tipodevehiculo, cilindrada):\n",
    "        self.color = color\n",
    "        self.tipodevehiculo = tipodevehiculo\n",
    "        self.cilindrada = cilindrada\n",
    "        self.velocidad = 0\n",
    "        self.direccion = 0\n",
    "\n",
    "    def acelerar(self, velocidad):\n",
    "        self.velocidad += velocidad\n",
    "\n",
    "    def frenar(self, velocidad):\n",
    "        self.velocidad -= velocidad\n",
    "\n",
    "    def doblar(self, grados):\n",
    "        self.direccion += grados\n"
   ]
  },
  {
   "attachments": {},
   "cell_type": "markdown",
   "metadata": {},
   "source": [
    "3) Instanciar 3 objetos de la clase vehículo y ejecutar sus métodos, probar luego el resultado"
   ]
  },
  {
   "cell_type": "code",
   "execution_count": 3,
   "metadata": {},
   "outputs": [],
   "source": [
    "auto1=Vehiculo('rojo', 'Auto', '2000cc')\n",
    "moto=Vehiculo('gris','Moto', '300cc')\n",
    "camion=Vehiculo('blanco','Camion','4000cc')"
   ]
  },
  {
   "cell_type": "code",
   "execution_count": 4,
   "metadata": {},
   "outputs": [
    {
     "name": "stdout",
     "output_type": "stream",
     "text": [
      "Es un Auto de color rojo con un motor de 2000cc\n",
      "Es un Moto de color gris con un motor de 300cc\n",
      "Es un Camion de color blanco con un motor de 4000cc\n"
     ]
    }
   ],
   "source": [
    "print(f'Es un {auto1.tipodevehiculo} de color {auto1.color} con un motor de {auto1.cilindrada}')\n",
    "print(f'Es un {moto.tipodevehiculo} de color {moto.color} con un motor de {moto.cilindrada}')\n",
    "print(f'Es un {camion.tipodevehiculo} de color {camion.color} con un motor de {camion.cilindrada}')\n"
   ]
  },
  {
   "attachments": {},
   "cell_type": "markdown",
   "metadata": {},
   "source": [
    "4) Agregar a la clase Vehiculo, un método que muestre su estado, es decir, a que velocidad se encuentra y su dirección. Y otro método que muestre color, tipo y cilindrada"
   ]
  },
  {
   "cell_type": "code",
   "execution_count": 5,
   "metadata": {},
   "outputs": [],
   "source": [
    "class Vehiculo:\n",
    "    def __init__(self, color, tipodevehiculo, cilindrada):\n",
    "        self.color = color\n",
    "        self.tipodevehiculo = tipodevehiculo\n",
    "        self.cilindrada = cilindrada\n",
    "        self.velocidad = 0\n",
    "        self.direccion = 0\n",
    "\n",
    "    def acelerar(self, velocidad):\n",
    "        self.velocidad += velocidad\n",
    "\n",
    "    def frenar(self, velocidad):\n",
    "        self.velocidad -= velocidad\n",
    "\n",
    "    def doblar(self, grados):\n",
    "        self.direccion += grados    \n",
    "    \n",
    "    def Estado(self):\n",
    "        print(f'Su velocidad es {self.velocidad} y su direccion es {self.direccion}')\n",
    "\n",
    "    def Caracteristicas(self):\n",
    "        print(f'Es un {self.tipodevehiculo} de color {self.color} con un motor de {self.cilindrada}')\n",
    "\n"
   ]
  },
  {
   "cell_type": "code",
   "execution_count": 6,
   "metadata": {},
   "outputs": [
    {
     "ename": "AttributeError",
     "evalue": "'Vehiculo' object has no attribute 'Estado'",
     "output_type": "error",
     "traceback": [
      "\u001b[1;31m---------------------------------------------------------------------------\u001b[0m",
      "\u001b[1;31mAttributeError\u001b[0m                            Traceback (most recent call last)",
      "Cell \u001b[1;32mIn[6], line 1\u001b[0m\n\u001b[1;32m----> 1\u001b[0m \u001b[43mauto1\u001b[49m\u001b[38;5;241;43m.\u001b[39;49m\u001b[43mEstado\u001b[49m()\n\u001b[0;32m      2\u001b[0m auto1\u001b[38;5;241m.\u001b[39macelerar(\u001b[38;5;241m50\u001b[39m)\n",
      "\u001b[1;31mAttributeError\u001b[0m: 'Vehiculo' object has no attribute 'Estado'"
     ]
    }
   ],
   "source": [
    "auto1.Estado()\n",
    "auto1.acelerar(50)"
   ]
  },
  {
   "attachments": {},
   "cell_type": "markdown",
   "metadata": {},
   "source": [
    "5) Crear una clase que permita utilizar las funciones creadas en la práctica del módulo 7<br>\n",
    "Verificar Primo<br>\n",
    "Valor modal<br>\n",
    "Conversión grados<br>\n",
    "Factorial<br>"
   ]
  },
  {
   "cell_type": "code",
   "execution_count": null,
   "metadata": {},
   "outputs": [],
   "source": [
    "import sys\n",
    "sys.path.append('../M07_funciones/')\n",
    "import Prep_Course_Homework_07_Resuelto as HW_07   \n",
    "\n",
    "class Funciones_HW7:\n",
    "    def __init__(self,numero):\n",
    "        self.numero=numero \n",
    "\n",
    "    def Verificar_primo(self):\n",
    "                   \n",
    "            if HW_07.verifica_primo(self.numero):\n",
    "                print(f'{self.numero} es primo')\n",
    "    \n",
    "\n",
    "    def Conversion(self, unidad1, unidad2):\n",
    "            print(HW_07.conversion_grados(self.numero,unidad1,unidad2))\n",
    "    \n",
    "    def Factorial_(self):\n",
    "            print(HW_07.factorial(self.numero))\n",
    "    \n",
    "\n",
    "\n",
    "\n",
    "\n",
    "        \n",
    "    "
   ]
  },
  {
   "cell_type": "code",
   "execution_count": null,
   "metadata": {},
   "outputs": [
    {
     "name": "stdout",
     "output_type": "stream",
     "text": [
      "5 es primo\n"
     ]
    }
   ],
   "source": [
    "herr = Funciones_HW7(5)\n",
    "herr.Verificar_primo()"
   ]
  },
  {
   "cell_type": "code",
   "execution_count": null,
   "metadata": {},
   "outputs": [
    {
     "name": "stdout",
     "output_type": "stream",
     "text": [
      "120\n"
     ]
    }
   ],
   "source": [
    "herr.Factorial_()\n"
   ]
  },
  {
   "cell_type": "code",
   "execution_count": null,
   "metadata": {},
   "outputs": [
    {
     "name": "stdout",
     "output_type": "stream",
     "text": [
      "41.0\n"
     ]
    }
   ],
   "source": [
    "herr.Conversion('celsius','farenheit')"
   ]
  },
  {
   "cell_type": "code",
   "execution_count": null,
   "metadata": {},
   "outputs": [
    {
     "ename": "AttributeError",
     "evalue": "'Funciones_HW7' object has no attribute 'Valormodal'",
     "output_type": "error",
     "traceback": [
      "\u001b[1;31m---------------------------------------------------------------------------\u001b[0m",
      "\u001b[1;31mAttributeError\u001b[0m                            Traceback (most recent call last)",
      "Cell \u001b[1;32mIn[4], line 1\u001b[0m\n\u001b[1;32m----> 1\u001b[0m \u001b[43mherr\u001b[49m\u001b[38;5;241;43m.\u001b[39;49m\u001b[43mValormodal\u001b[49m()\n",
      "\u001b[1;31mAttributeError\u001b[0m: 'Funciones_HW7' object has no attribute 'Valormodal'"
     ]
    }
   ],
   "source": [
    "herr.Valormodal()"
   ]
  },
  {
   "attachments": {},
   "cell_type": "markdown",
   "metadata": {},
   "source": [
    "6) Probar las funciones incorporadas en la clase del punto 5"
   ]
  },
  {
   "cell_type": "code",
   "execution_count": null,
   "metadata": {},
   "outputs": [],
   "source": []
  },
  {
   "attachments": {},
   "cell_type": "markdown",
   "metadata": {},
   "source": [
    "7) Es necesario que la clase creada en el punto 5 contenga una lista, sobre la cual se apliquen las funciones incorporadas"
   ]
  },
  {
   "cell_type": "code",
   "execution_count": null,
   "metadata": {},
   "outputs": [],
   "source": [
    "import sys\n",
    "sys.path.append(r'C:\\Users\\flore\\OneDrive\\Escritorio\\Python-Prep\\M07_funciones')\n",
    "import Prep_Course_Homework_07_Resuelto as HW_07   \n",
    "\n",
    "class Funciones_HW7_lista:\n",
    "    def __init__(self,Lista_numeros):\n",
    "        self.lista_numeros = Lista_numeros\n",
    "\n",
    "    def Verificar_primo(self):\n",
    "        for i in self.lista_numeros:\n",
    "            #print(HW_07.verifica_primo(i))              \n",
    "            if HW_07.verifica_primo(i):\n",
    "                print(f'{i} es primo')\n",
    "    def Valormodal(self):\n",
    "        print(HW_07.valor_modal(self.lista_numeros))\n",
    "\n",
    "    def Conversion(self, unidad1, unidad2):\n",
    "        for i in self.lista_numeros:\n",
    "            print(HW_07.conversion_grados(i,unidad1,unidad2))\n",
    "    \n",
    "    def Factorial_(self):\n",
    "        for i in self.lista_numeros:\n",
    "            print(HW_07.factorial(i))"
   ]
  },
  {
   "attachments": {},
   "cell_type": "markdown",
   "metadata": {},
   "source": [
    "8) Crear un archivo .py aparte y ubicar allí la clase generada en el punto anterior. Luego realizar la importación del módulo y probar alguna de sus funciones"
   ]
  },
  {
   "cell_type": "code",
   "execution_count": 25,
   "metadata": {},
   "outputs": [],
   "source": [
    "from archivo import *\n",
    "\n",
    "\n",
    "\n"
   ]
  },
  {
   "cell_type": "code",
   "execution_count": 26,
   "metadata": {},
   "outputs": [],
   "source": [
    "h2=Funciones([2,3,8,10,13])\n"
   ]
  },
  {
   "cell_type": "code",
   "execution_count": 27,
   "metadata": {},
   "outputs": [
    {
     "name": "stdout",
     "output_type": "stream",
     "text": [
      "(2, 1)\n",
      "None\n"
     ]
    }
   ],
   "source": [
    "print(h2.Valormodal())"
   ]
  },
  {
   "cell_type": "code",
   "execution_count": 28,
   "metadata": {},
   "outputs": [
    {
     "name": "stdout",
     "output_type": "stream",
     "text": [
      "35.6\n",
      "37.4\n",
      "46.4\n",
      "50.0\n",
      "55.4\n"
     ]
    }
   ],
   "source": [
    "h2.Conversion('celsius','farenheit')"
   ]
  },
  {
   "cell_type": "code",
   "execution_count": 29,
   "metadata": {},
   "outputs": [
    {
     "name": "stdout",
     "output_type": "stream",
     "text": [
      "2\n",
      "6\n",
      "40320\n",
      "3628800\n",
      "6227020800\n"
     ]
    }
   ],
   "source": [
    "h2.Factorial_()"
   ]
  },
  {
   "cell_type": "code",
   "execution_count": 30,
   "metadata": {},
   "outputs": [
    {
     "name": "stdout",
     "output_type": "stream",
     "text": [
      "2 es primo\n",
      "3 es primo\n",
      "13 es primo\n"
     ]
    }
   ],
   "source": [
    "h2.Verificar_primo()"
   ]
  }
 ],
 "metadata": {
  "interpreter": {
   "hash": "c85384e4cb51c8b72350f3a8712cc8351fdc3955e32a27f9b60c6242ab125f01"
  },
  "kernelspec": {
   "display_name": "Python 3 (ipykernel)",
   "language": "python",
   "name": "python3"
  },
  "language_info": {
   "codemirror_mode": {
    "name": "ipython",
    "version": 3
   },
   "file_extension": ".py",
   "mimetype": "text/x-python",
   "name": "python",
   "nbconvert_exporter": "python",
   "pygments_lexer": "ipython3",
   "version": "3.12.1"
  }
 },
 "nbformat": 4,
 "nbformat_minor": 4
}
