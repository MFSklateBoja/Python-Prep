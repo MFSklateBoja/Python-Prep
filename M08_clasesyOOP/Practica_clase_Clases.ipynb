{
 "cells": [
  {
   "cell_type": "code",
   "execution_count": null,
   "metadata": {},
   "outputs": [],
   "source": [
    "class Gato:\n",
    "    def __init__(self, nombre, edad,raza, sexo):\n",
    "        self.nombre = nombre\n",
    "        self.edad = edad\n",
    "        self.raza = raza\n",
    "        self.sexo = sexo"
   ]
  },
  {
   "cell_type": "code",
   "execution_count": 8,
   "metadata": {},
   "outputs": [],
   "source": [
    "class Gato:\n",
    "    def __init__(self, nombre, edad,raza='Mestizo', sexo='No sabemos'):\n",
    "        self.nombre = nombre\n",
    "        self.edad = edad\n",
    "        self.raza = raza\n",
    "        self.sexo = sexo\n",
    "   #Creamos el método presentar\n",
    "    def presentar(self):\n",
    "        print(\"Mi Nombre: \", self.nombre)\n",
    "        print(\"Edad: \", self.edad,\"años\")\n",
    "        print(\"Raza: \", self.raza)\n",
    "        print(\"Sexo: \", self.sexo)"
   ]
  },
  {
   "cell_type": "code",
   "execution_count": 14,
   "metadata": {},
   "outputs": [
    {
     "name": "stdout",
     "output_type": "stream",
     "text": [
      "Mi Nombre:  Floki\n",
      "Edad:  9 años\n",
      "Raza:  Siames\n",
      "Sexo:  macho\n",
      "Mi Nombre:  Pompin\n",
      "Edad:  8 años\n",
      "Raza:  Gris\n",
      "Sexo:  Macho\n"
     ]
    }
   ],
   "source": [
    "gato1=Gato('Floki',9,'Siames','macho')\n",
    "gato1.presentar()\n",
    "\n",
    "gato2=Gato('Pompin',8,'Gris','Macho')\n",
    "gato2.presentar()"
   ]
  },
  {
   "cell_type": "code",
   "execution_count": null,
   "metadata": {},
   "outputs": [],
   "source": [
    "class CuentaBancaria:\n",
    "    def __init__(self, saldo):\n",
    "        self.__saldo = saldo  # el atributo saldo está encapsulado con __\n",
    "\n",
    "    def depositar(self, monto):\n",
    "        self.__saldo += monto\n",
    "\n",
    "    def retirar(self, monto):\n",
    "        if self.__saldo >= monto:\n",
    "            self.__saldo -= monto\n",
    "        else:\n",
    "            print(\"Saldo insuficiente\")\n",
    "\n",
    "    def obtener_saldo(self):\n",
    "        return self.__saldo"
   ]
  },
  {
   "cell_type": "code",
   "execution_count": 15,
   "metadata": {},
   "outputs": [],
   "source": [
    "class Animal:\n",
    "    def __init__(self, especie, edad,color):\n",
    "        self.especie = especie\n",
    "        self.edad = edad\n",
    "        self.color = color\n",
    "   #Creamos el método presentar\n",
    "    def me_presento(self):\n",
    "        print(\"Soy un: \", self.especie)\n",
    "        print(\"Tengo: \", self.edad,\"años\")\n",
    "        print(\"Soy de color: \", self.color)\n",
    "    #creamos el método cumplir años:\n",
    "    def cumpliraños(self):\n",
    "        self.edad += 1"
   ]
  },
  {
   "cell_type": "code",
   "execution_count": 16,
   "metadata": {},
   "outputs": [],
   "source": [
    "animal1=Animal('Raton', 2,'Gris')\n",
    "animal2=Animal('Gato', 5,'Negro')"
   ]
  },
  {
   "cell_type": "code",
   "execution_count": 21,
   "metadata": {},
   "outputs": [
    {
     "name": "stdout",
     "output_type": "stream",
     "text": [
      "Gris\n",
      "Raton\n"
     ]
    }
   ],
   "source": [
    "print(animal1.color)\n",
    "print(animal1.especie)"
   ]
  }
 ],
 "metadata": {
  "kernelspec": {
   "display_name": "Python 3",
   "language": "python",
   "name": "python3"
  },
  "language_info": {
   "codemirror_mode": {
    "name": "ipython",
    "version": 3
   },
   "file_extension": ".py",
   "mimetype": "text/x-python",
   "name": "python",
   "nbconvert_exporter": "python",
   "pygments_lexer": "ipython3",
   "version": "3.12.1"
  }
 },
 "nbformat": 4,
 "nbformat_minor": 2
}
