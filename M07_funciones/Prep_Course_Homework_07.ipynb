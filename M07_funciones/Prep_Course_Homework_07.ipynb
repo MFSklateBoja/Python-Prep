{
 "cells": [
  {
   "attachments": {},
   "cell_type": "markdown",
   "metadata": {},
   "source": [
    "## Funciones"
   ]
  },
  {
   "attachments": {},
   "cell_type": "markdown",
   "metadata": {},
   "source": [
    "1) Crear una función que reciba un número como parámetro y devuelva True si es primo y False si no lo es"
   ]
  },
  {
   "cell_type": "code",
   "execution_count": 6,
   "metadata": {},
   "outputs": [],
   "source": [
    "def primo(n):\n",
    "    '''Al ingresar un valor mayor o igual a cero, devuelve True si es primo y False si no lo es'''\n",
    "    if n<=0:\n",
    "        print('El número tiene que ser un real positivo mayor que cero')\n",
    "    else:\n",
    "        primo=True\n",
    "        for div in range(2, n):\n",
    "            if (n % div == 0):\n",
    "                primo = False\n",
    "                break\n",
    "        return primo\n"
   ]
  },
  {
   "cell_type": "code",
   "execution_count": 7,
   "metadata": {},
   "outputs": [
    {
     "data": {
      "text/plain": [
       "True"
      ]
     },
     "execution_count": 7,
     "metadata": {},
     "output_type": "execute_result"
    }
   ],
   "source": [
    "primo(31)"
   ]
  },
  {
   "attachments": {},
   "cell_type": "markdown",
   "metadata": {},
   "source": [
    "2) Utilizando la función del punto 1, realizar otra función que reciba de parámetro una lista de números y devuelva sólo aquellos que son primos en otra lista"
   ]
  },
  {
   "cell_type": "code",
   "execution_count": 8,
   "metadata": {},
   "outputs": [],
   "source": [
    "\n",
    "def sonprimos(lista_numeros):\n",
    "    '''Al recibir una lista de numeros devuelve otra lista con solo los numeros primos'''\n",
    "    lista_primos=[]\n",
    "    for i in lista_numeros:\n",
    "        esprimo = primo(i)\n",
    "        if esprimo:\n",
    "            lista_primos.append(i)\n",
    "    return lista_primos\n",
    "        "
   ]
  },
  {
   "cell_type": "code",
   "execution_count": 9,
   "metadata": {},
   "outputs": [
    {
     "name": "stdout",
     "output_type": "stream",
     "text": [
      "[3, 5, 17, 31]\n"
     ]
    }
   ],
   "source": [
    "numeros=[3,5,8,10,17,21,31]\n",
    "print(sonprimos(numeros))"
   ]
  },
  {
   "attachments": {},
   "cell_type": "markdown",
   "metadata": {},
   "source": [
    "3) Crear una función que al recibir una lista de números, devuelva el que más se repite y cuántas veces lo hace. Si hay más de un \"más repetido\", que devuelva cualquiera"
   ]
  },
  {
   "cell_type": "code",
   "execution_count": 10,
   "metadata": {},
   "outputs": [],
   "source": [
    "def mas_repetidos(lista):\n",
    "    '''Al ingresar una lista de números devuelve el que más se repite y cuantas veces lo hace'''\n",
    "    repite=0\n",
    "    if len(lista) == 0:\n",
    "        print('La lista esta vacía')\n",
    "    else:\n",
    "        unicos=[]\n",
    "        repetidos=[]\n",
    "        for n in lista:\n",
    "            if n in unicos:\n",
    "                repetidos.append(n)\n",
    "            else:\n",
    "               unicos.append(n)\n",
    "        for i in repetidos:\n",
    "            mayor=repetidos.count(i)\n",
    "            if mayor>repite:\n",
    "                repite=mayor\n",
    "                mas_repetido=i\n",
    "            \n",
    "    return  mas_repetido, repite +1\n",
    "\n",
    "\n"
   ]
  },
  {
   "cell_type": "code",
   "execution_count": 11,
   "metadata": {},
   "outputs": [
    {
     "data": {
      "text/plain": [
       "(5, 3)"
      ]
     },
     "execution_count": 11,
     "metadata": {},
     "output_type": "execute_result"
    }
   ],
   "source": [
    "numeros = [1,2,2,5,8,4,3,6,2,2,9,0,1,5,4,1,7,9,1,1,1]\n",
    "lis = [1,1,5,6,8,10,22,5,6,4,11,9,5]\n",
    "mas_repetidos(numeros)\n",
    "mas_repetidos(lis)"
   ]
  },
  {
   "attachments": {},
   "cell_type": "markdown",
   "metadata": {},
   "source": [
    "4) Crear una función que convierta entre grados Celsius, Farenheit y Kelvin<br>\n",
    "Fórmula 1\t: (°C × 9/5) + 32 = °F<br>\n",
    "Fórmula 2\t: °C + 273.15 = °K<br>\n",
    "Debe recibir 3 parámetros: el valor, la medida de orígen y la medida de destino\n"
   ]
  },
  {
   "cell_type": "code",
   "execution_count": 6,
   "metadata": {},
   "outputs": [
    {
     "data": {
      "text/plain": [
       "273.15"
      ]
     },
     "execution_count": 6,
     "metadata": {},
     "output_type": "execute_result"
    }
   ],
   "source": [
    "def Celsius_Farenheit(valor):\n",
    "    result=(valor * 9/5) + 32\n",
    "    return result\n",
    "\n",
    "def Celsius_Kelvin(valor):\n",
    "    result=valor + 273.15\n",
    "    return result\n",
    "\n",
    "def Farenheit_Celsius(valor):\n",
    "    result = (valor-32)*5/9\n",
    "    return result\n",
    "\n",
    "def Kelvin_Celsius(valor):\n",
    "    result=valor - 273.15\n",
    "    return result\n",
    "\n",
    "def conversorTemp(valor, origen, destino):\n",
    "    '''Esta función convierte entre Grados Celsius, Farenheit y Kelvin. Se debe ingresar el valor de la temperatura, en que unidad se encuentra\n",
    "    y en que unidad se desea. La salida será el valor convertido en la unidad de salida deseada'''\n",
    "    lista_unidades=[\"Celsius\", \"Farenheit\", \"Kelvin\"]\n",
    "    if origen not in lista_unidades:\n",
    "        print('Unidad de origen incorrecta')\n",
    "    elif destino not in lista_unidades:\n",
    "        print('Unidad de destino incorrecta')\n",
    "    else: \n",
    "        if origen == \"Celsius\":\n",
    "            if destino == \"Farenheit\":\n",
    "                resultado=Celsius_Farenheit(valor)\n",
    "            elif destino == \"Celsius\":\n",
    "                resultado = valor\n",
    "            elif destino == \"Kelvin\":\n",
    "                resultado = Celsius_Kelvin(valor)\n",
    "        elif origen == \"Farenheit\":\n",
    "            if destino == \"Farenheit\":\n",
    "                resultado=valor\n",
    "            elif destino == \"Celsius\":\n",
    "                resultado = Farenheit_Celsius(valor)\n",
    "            elif destino == \"Kelvin\":\n",
    "                resultado = Celsius_Kelvin(Farenheit_Celsius(valor))\n",
    "        else: #origen == \"Kelvin\":\n",
    "            if destino == \"Farenheit\":\n",
    "                resultado=Celsius_Farenheit(Kelvin_Celsius(valor))\n",
    "            elif destino == \"Celsius\":\n",
    "                resultado = Kelvin_Celsius(valor)\n",
    "            elif destino == \"Kelvin\":\n",
    "                resultado = valor\n",
    "\n",
    "        return resultado\n",
    "conversorTemp(0,\"Celsius\",\"Kelvin\")\n",
    "\n",
    "        "
   ]
  },
  {
   "cell_type": "code",
   "execution_count": 3,
   "metadata": {},
   "outputs": [
    {
     "name": "stdout",
     "output_type": "stream",
     "text": [
      "<class 'float'>\n"
     ]
    }
   ],
   "source": [
    "print(type(conversorTemp(0,\"Celsius\",\"Kelvin\")))\n"
   ]
  },
  {
   "attachments": {},
   "cell_type": "markdown",
   "metadata": {},
   "source": [
    "5) Iterando una lista con los tres valores posibles de temperatura que recibe la función del punto 5, hacer un print para cada combinación de los mismos:"
   ]
  },
  {
   "cell_type": "code",
   "execution_count": 8,
   "metadata": {},
   "outputs": [
    {
     "name": "stdout",
     "output_type": "stream",
     "text": [
      " 15 grados Celsius equivalen a 15 grados Celsius\n",
      " 15 grados Celsius equivalen a 59.0 grados Farenheit\n",
      " 15 grados Celsius equivalen a 288.15 grados Kelvin\n",
      " 15 grados Farenheit equivalen a -9.444444444444445 grados Celsius\n",
      " 15 grados Farenheit equivalen a 15 grados Farenheit\n",
      " 15 grados Farenheit equivalen a 263.7055555555555 grados Kelvin\n",
      " 15 grados Kelvin equivalen a -258.15 grados Celsius\n",
      " 15 grados Kelvin equivalen a -432.66999999999996 grados Farenheit\n",
      " 15 grados Kelvin equivalen a 15 grados Kelvin\n",
      " -5 grados Celsius equivalen a -5 grados Celsius\n",
      " -5 grados Celsius equivalen a 23.0 grados Farenheit\n",
      " -5 grados Celsius equivalen a 268.15 grados Kelvin\n",
      " -5 grados Farenheit equivalen a -20.555555555555557 grados Celsius\n",
      " -5 grados Farenheit equivalen a -5 grados Farenheit\n",
      " -5 grados Farenheit equivalen a 252.59444444444443 grados Kelvin\n",
      " -5 grados Kelvin equivalen a -278.15 grados Celsius\n",
      " -5 grados Kelvin equivalen a -468.66999999999996 grados Farenheit\n",
      " -5 grados Kelvin equivalen a -5 grados Kelvin\n",
      " 32 grados Celsius equivalen a 32 grados Celsius\n",
      " 32 grados Celsius equivalen a 89.6 grados Farenheit\n",
      " 32 grados Celsius equivalen a 305.15 grados Kelvin\n",
      " 32 grados Farenheit equivalen a 0.0 grados Celsius\n",
      " 32 grados Farenheit equivalen a 32 grados Farenheit\n",
      " 32 grados Farenheit equivalen a 273.15 grados Kelvin\n",
      " 32 grados Kelvin equivalen a -241.14999999999998 grados Celsius\n",
      " 32 grados Kelvin equivalen a -402.07 grados Farenheit\n",
      " 32 grados Kelvin equivalen a 32 grados Kelvin\n"
     ]
    }
   ],
   "source": [
    "temperaturas = [15,-5,32]\n",
    "\n",
    "lista_unidades=[\"Celsius\", \"Farenheit\", \"Kelvin\"]\n",
    "\n",
    "for temp in temperaturas:\n",
    "    for unidad1 in lista_unidades:\n",
    "        for unidad2 in lista_unidades:\n",
    "            temp2=conversorTemp(temp, unidad1, unidad2)\n",
    "            print(f' {temp} grados {unidad1} equivalen a {temp2} grados {unidad2}')\n",
    "\n",
    "\n"
   ]
  },
  {
   "attachments": {},
   "cell_type": "markdown",
   "metadata": {},
   "source": [
    "6) Armar una función que devuelva el factorial de un número. Tener en cuenta que el usuario puede equivocarse y enviar de parámetro un número no entero o negativo"
   ]
  },
  {
   "cell_type": "code",
   "execution_count": 56,
   "metadata": {},
   "outputs": [],
   "source": [
    "def factorial(n):\n",
    "    '''Devuelve el factorial de un número siempre que este sea entero y mayor que cero'''\n",
    "    if type(n) != int:\n",
    "          return print('El número debe ser entero')\n",
    "    \n",
    "    if n<=0:\n",
    "          return print('El número debe ser positivo')\n",
    "    \n",
    "    if n == 1:\n",
    "          return 1\n",
    "\n",
    "    if (n>1 and type(n) == int):\n",
    "            n = n * factorial(n-1)\n",
    "       #print(n)\n",
    "    return n"
   ]
  },
  {
   "cell_type": "code",
   "execution_count": 59,
   "metadata": {},
   "outputs": [
    {
     "name": "stdout",
     "output_type": "stream",
     "text": [
      "El número debe ser positivo\n"
     ]
    }
   ],
   "source": [
    "type(5)\n",
    "factorial(0)"
   ]
  }
 ],
 "metadata": {
  "interpreter": {
   "hash": "c85384e4cb51c8b72350f3a8712cc8351fdc3955e32a27f9b60c6242ab125f01"
  },
  "kernelspec": {
   "display_name": "Python 3 (ipykernel)",
   "language": "python",
   "name": "python3"
  },
  "language_info": {
   "codemirror_mode": {
    "name": "ipython",
    "version": 3
   },
   "file_extension": ".py",
   "mimetype": "text/x-python",
   "name": "python",
   "nbconvert_exporter": "python",
   "pygments_lexer": "ipython3",
   "version": "3.12.1"
  }
 },
 "nbformat": 4,
 "nbformat_minor": 4
}
