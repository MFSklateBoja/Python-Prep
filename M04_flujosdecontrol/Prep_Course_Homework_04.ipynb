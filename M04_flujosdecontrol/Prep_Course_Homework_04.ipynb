{
 "cells": [
  {
   "attachments": {},
   "cell_type": "markdown",
   "metadata": {},
   "source": [
    "## Flujos de Control"
   ]
  },
  {
   "attachments": {},
   "cell_type": "markdown",
   "metadata": {},
   "source": [
    "1) Crear una variable que contenga un elemento del conjunto de números enteros y luego imprimir por pantalla si es mayor o menor a cero"
   ]
  },
  {
   "cell_type": "code",
   "execution_count": 22,
   "metadata": {},
   "outputs": [
    {
     "name": "stdout",
     "output_type": "stream",
     "text": [
      "Es mayor que cero\n"
     ]
    }
   ],
   "source": [
    "num=5\n",
    "if num>0:\n",
    "    print(\"Es mayor que cero\")\n",
    "elif num<0:\n",
    "    print(\"Es menor que cero\")\n",
    "else:\n",
    "    print(\"Es igual a cero\")\n"
   ]
  },
  {
   "attachments": {},
   "cell_type": "markdown",
   "metadata": {},
   "source": [
    "2) Crear dos variables y un condicional que informe si son del mismo tipo de dato"
   ]
  },
  {
   "cell_type": "code",
   "execution_count": 23,
   "metadata": {},
   "outputs": [
    {
     "name": "stdout",
     "output_type": "stream",
     "text": [
      "Son distintos tipos de datos\n"
     ]
    }
   ],
   "source": [
    "entero = 5\n",
    "cadena = \"Python\"\n",
    "if type(entero) == type(cadena):\n",
    "    print (\"Son el mismo tipo de dato\")\n",
    "else:\n",
    "    print(\"Son distintos tipos de datos\")"
   ]
  },
  {
   "attachments": {},
   "cell_type": "markdown",
   "metadata": {},
   "source": [
    "3) Para los valores enteros del 1 al 20, imprimir por pantalla si es par o impar"
   ]
  },
  {
   "cell_type": "code",
   "execution_count": 24,
   "metadata": {},
   "outputs": [
    {
     "name": "stdout",
     "output_type": "stream",
     "text": [
      "Es impar\n",
      "Es par\n",
      "Es impar\n",
      "Es par\n",
      "Es impar\n",
      "Es par\n",
      "Es impar\n",
      "Es par\n",
      "Es impar\n",
      "Es par\n",
      "Es impar\n",
      "Es par\n",
      "Es impar\n",
      "Es par\n",
      "Es impar\n",
      "Es par\n",
      "Es impar\n",
      "Es par\n",
      "Es impar\n",
      "Es par\n"
     ]
    }
   ],
   "source": [
    "for i in range(1,21):\n",
    "    if (i%2 == 0):\n",
    "        print(\"Es par\")\n",
    "    else:\n",
    "        print(\"Es impar\")"
   ]
  },
  {
   "attachments": {},
   "cell_type": "markdown",
   "metadata": {},
   "source": [
    "4) En un ciclo for mostrar para los valores entre 0 y 5 el resultado de elevarlo a la potencia igual a 3"
   ]
  },
  {
   "cell_type": "code",
   "execution_count": 25,
   "metadata": {},
   "outputs": [
    {
     "name": "stdout",
     "output_type": "stream",
     "text": [
      "El valor es 0 y su potencia es 0\n",
      "El valor es 1 y su potencia es 1\n",
      "El valor es 2 y su potencia es 8\n",
      "El valor es 3 y su potencia es 27\n",
      "El valor es 4 y su potencia es 64\n",
      "El valor es 5 y su potencia es 125\n"
     ]
    }
   ],
   "source": [
    "for i in range(6):\n",
    "    print(f'El valor es {i} y su potencia es {i**3}')"
   ]
  },
  {
   "attachments": {},
   "cell_type": "markdown",
   "metadata": {},
   "source": [
    "5) Crear una variable que contenga un número entero y realizar un ciclo for la misma cantidad de ciclos"
   ]
  },
  {
   "cell_type": "code",
   "execution_count": 26,
   "metadata": {},
   "outputs": [
    {
     "name": "stdout",
     "output_type": "stream",
     "text": [
      "Ciclo 1\n",
      "Ciclo 2\n",
      "Ciclo 3\n",
      "Ciclo 4\n",
      "Ciclo 5\n"
     ]
    }
   ],
   "source": [
    "var = 5\n",
    "for i in range(var):\n",
    "    print(f'Ciclo {i+1}')\n",
    "\n",
    "\n"
   ]
  },
  {
   "attachments": {},
   "cell_type": "markdown",
   "metadata": {},
   "source": [
    "6) Utilizar un ciclo while para realizar el factorial de un número guardado en una variable, sólo si la variable contiene un número entero mayor a 0"
   ]
  },
  {
   "cell_type": "code",
   "execution_count": 27,
   "metadata": {},
   "outputs": [
    {
     "name": "stdout",
     "output_type": "stream",
     "text": [
      "La variable no es un entero mayor a 0\n"
     ]
    }
   ],
   "source": [
    "n=0\n",
    "factorial = 1\n",
    "i = 1 \n",
    "if n>0 and (type(n) == int):\n",
    "    print(f'El factorial es:')\n",
    "    while(i<=n):\n",
    "        factorial = factorial * i\n",
    "        print(i, end='')\n",
    "        i += 1\n",
    "        if (i>n):\n",
    "            break\n",
    "        else:\n",
    "            print(\" x \", end='')\n",
    "    print(f' = {factorial}')\n",
    "else:\n",
    "    print(\"La variable no es un entero mayor a 0\")\n",
    "\n",
    "\n"
   ]
  },
  {
   "attachments": {},
   "cell_type": "markdown",
   "metadata": {},
   "source": [
    "7) Crear un ciclo for dentro de un ciclo while"
   ]
  },
  {
   "cell_type": "code",
   "execution_count": 28,
   "metadata": {},
   "outputs": [
    {
     "name": "stdout",
     "output_type": "stream",
     "text": [
      "Aca esta dentro del For por  0 ª vez\n",
      "Aca esta dentro del For por  1 ª vez\n",
      "Aca esta dentro del For por  2 ª vez\n",
      "Aca esta dentro del For por  3 ª vez\n",
      "Aca esta dentro del For por  4 ª vez\n",
      "Aca estoy dentro del while por 1 ª vez\n",
      "Aca esta dentro del For por  0 ª vez\n",
      "Aca esta dentro del For por  1 ª vez\n",
      "Aca esta dentro del For por  2 ª vez\n",
      "Aca esta dentro del For por  3 ª vez\n",
      "Aca estoy dentro del while por 2 ª vez\n",
      "Aca esta dentro del For por  0 ª vez\n",
      "Aca esta dentro del For por  1 ª vez\n",
      "Aca esta dentro del For por  2 ª vez\n",
      "Aca estoy dentro del while por 3 ª vez\n",
      "Aca esta dentro del For por  0 ª vez\n",
      "Aca esta dentro del For por  1 ª vez\n",
      "Aca estoy dentro del while por 4 ª vez\n",
      "Aca esta dentro del For por  0 ª vez\n",
      "Aca estoy dentro del while por 5 ª vez\n"
     ]
    }
   ],
   "source": [
    "n=5\n",
    "j=1\n",
    "while n>0:\n",
    "    for i in range(n):\n",
    "        print(\"Aca esta dentro del For por \", i, \"ª vez\")\n",
    "    print(\"Aca estoy dentro del while por\", j, \"ª vez\" )\n",
    "    j +=1\n",
    "    n-=1"
   ]
  },
  {
   "attachments": {},
   "cell_type": "markdown",
   "metadata": {},
   "source": [
    "8) Crear un ciclo while dentro de un ciclo for"
   ]
  },
  {
   "cell_type": "code",
   "execution_count": 29,
   "metadata": {},
   "outputs": [
    {
     "name": "stdout",
     "output_type": "stream",
     "text": [
      "Aca entro en el for 0 veces\n",
      "Aca entro en el while 1 veces\n",
      "Aca entro en el while 2 veces\n",
      "Aca entro en el while 3 veces\n",
      "Aca entro en el while 4 veces\n",
      "Aca entro en el for 1 veces\n",
      "Aca entro en el while 1 veces\n",
      "Aca entro en el while 2 veces\n",
      "Aca entro en el while 3 veces\n",
      "Aca entro en el while 4 veces\n",
      "Aca entro en el for 2 veces\n",
      "Aca entro en el while 1 veces\n",
      "Aca entro en el while 2 veces\n",
      "Aca entro en el while 3 veces\n",
      "Aca entro en el while 4 veces\n",
      "Aca entro en el for 3 veces\n",
      "Aca entro en el while 1 veces\n",
      "Aca entro en el while 2 veces\n",
      "Aca entro en el while 3 veces\n",
      "Aca entro en el while 4 veces\n",
      "Aca entro en el for 4 veces\n",
      "Aca entro en el while 1 veces\n",
      "Aca entro en el while 2 veces\n",
      "Aca entro en el while 3 veces\n",
      "Aca entro en el while 4 veces\n",
      "Aca entro en el for 5 veces\n",
      "Aca entro en el while 1 veces\n",
      "Aca entro en el while 2 veces\n",
      "Aca entro en el while 3 veces\n",
      "Aca entro en el while 4 veces\n",
      "Aca entro en el for 6 veces\n",
      "Aca entro en el while 1 veces\n",
      "Aca entro en el while 2 veces\n",
      "Aca entro en el while 3 veces\n",
      "Aca entro en el while 4 veces\n",
      "Aca entro en el for 7 veces\n",
      "Aca entro en el while 1 veces\n",
      "Aca entro en el while 2 veces\n",
      "Aca entro en el while 3 veces\n",
      "Aca entro en el while 4 veces\n",
      "Aca entro en el for 8 veces\n",
      "Aca entro en el while 1 veces\n",
      "Aca entro en el while 2 veces\n",
      "Aca entro en el while 3 veces\n",
      "Aca entro en el while 4 veces\n",
      "Aca entro en el for 9 veces\n",
      "Aca entro en el while 1 veces\n",
      "Aca entro en el while 2 veces\n",
      "Aca entro en el while 3 veces\n",
      "Aca entro en el while 4 veces\n"
     ]
    }
   ],
   "source": [
    "n=10\n",
    "for i in range(n):\n",
    "    print(f'Aca entro en el for {i} veces')\n",
    "    j=1\n",
    "    while j<5:\n",
    "        print(f'Aca entro en el while {j} veces')\n",
    "        j+=1"
   ]
  },
  {
   "attachments": {},
   "cell_type": "markdown",
   "metadata": {},
   "source": [
    "9) Imprimir los números primos existentes entre 0 y 30"
   ]
  },
  {
   "cell_type": "code",
   "execution_count": 42,
   "metadata": {},
   "outputs": [
    {
     "name": "stdout",
     "output_type": "stream",
     "text": [
      "0\n",
      "1\n",
      "2\n",
      "3\n",
      "5\n",
      "7\n",
      "11\n",
      "13\n",
      "17\n",
      "19\n",
      "23\n",
      "29\n",
      "31\n"
     ]
    }
   ],
   "source": [
    "tope_rango=31\n",
    "n = 0\n",
    "primo = True\n",
    "for n in range (tope_rango+1):\n",
    "    for div in range(2, n):\n",
    "        if (n % div == 0):\n",
    "            primo = False\n",
    "\n",
    "    if (primo):\n",
    "        print(n)\n",
    "\n",
    "    else:\n",
    "\n",
    "        primo = True\n",
    "\n",
    "    "
   ]
  },
  {
   "attachments": {},
   "cell_type": "markdown",
   "metadata": {},
   "source": [
    "10) ¿Se puede mejorar el proceso del punto 9? Utilizar las sentencias break y/ó continue para tal fin"
   ]
  },
  {
   "cell_type": "code",
   "execution_count": 44,
   "metadata": {},
   "outputs": [
    {
     "name": "stdout",
     "output_type": "stream",
     "text": [
      "0\n",
      "1\n",
      "2\n",
      "3\n",
      "5\n",
      "7\n",
      "11\n",
      "13\n",
      "17\n",
      "19\n",
      "23\n",
      "29\n",
      "31\n"
     ]
    }
   ],
   "source": [
    "tope_rango=31\n",
    "n = 0\n",
    "primo = True\n",
    "for n in range (tope_rango+1):\n",
    "    for div in range(2, n):\n",
    "        if (n % div == 0):\n",
    "            primo = False\n",
    "            break\n",
    "    if (primo):\n",
    "        print(n)\n",
    "\n",
    "    else:\n",
    "\n",
    "        primo = True"
   ]
  },
  {
   "attachments": {},
   "cell_type": "markdown",
   "metadata": {},
   "source": [
    "11) En los puntos 9 y 10, se diseño un código que encuentra números primos y además se lo optimizó. ¿Es posible saber en qué medida se optimizó?"
   ]
  },
  {
   "cell_type": "code",
   "execution_count": 3,
   "metadata": {},
   "outputs": [
    {
     "name": "stdout",
     "output_type": "stream",
     "text": [
      "0\n",
      "1\n",
      "2\n",
      "3\n",
      "5\n",
      "7\n",
      "11\n",
      "13\n",
      "17\n",
      "19\n",
      "23\n",
      "29\n",
      "0\n",
      "1\n",
      "2\n",
      "3\n",
      "5\n",
      "7\n",
      "11\n",
      "13\n",
      "17\n",
      "19\n",
      "23\n",
      "29\n",
      "Ciclos sin optimizar: 406\n",
      "Ciclos optimizado: 135\n",
      "Se optimizó en un 33.251231527093594 % \n"
     ]
    }
   ],
   "source": [
    "tope_rango=30\n",
    "n = 0\n",
    "primo = True\n",
    "entradas = 0 \n",
    "entradas_optmizado = 0\n",
    "#Codigo sin optimizar\n",
    "for n in range (tope_rango+1):\n",
    "    for div in range(2, n):\n",
    "        entradas +=1\n",
    "        if (n % div == 0):\n",
    "            primo = False\n",
    "            \n",
    "    if (primo):\n",
    "        print(n)\n",
    "\n",
    "    else:\n",
    "        primo = True\n",
    "\n",
    "#Codigo optimizado\n",
    "n = 0\n",
    "primo = True\n",
    "for n in range (tope_rango+1):\n",
    "    for div in range(2, n):\n",
    "        entradas_optmizado += 1\n",
    "        if (n % div == 0):\n",
    "            primo = False\n",
    "            break\n",
    "    if (primo):\n",
    "        print(n)\n",
    "\n",
    "    else:\n",
    "\n",
    "        primo = True\n",
    "\n",
    "print(f'Ciclos sin optimizar: {entradas}')\n",
    "print(f'Ciclos optimizado: {entradas_optmizado}')\n",
    "print(f'Se optimizó en un {entradas_optmizado/entradas * 100} % ')"
   ]
  },
  {
   "attachments": {},
   "cell_type": "markdown",
   "metadata": {},
   "source": [
    "12) Aplicando continue, armar un ciclo while que solo imprima los valores divisibles por 12, dentro del rango de números de 100 a 300"
   ]
  },
  {
   "cell_type": "code",
   "execution_count": 1,
   "metadata": {},
   "outputs": [
    {
     "name": "stdout",
     "output_type": "stream",
     "text": [
      "108\n",
      "120\n",
      "132\n",
      "144\n",
      "156\n",
      "168\n",
      "180\n",
      "192\n",
      "204\n",
      "216\n",
      "228\n",
      "240\n",
      "252\n",
      "264\n",
      "276\n",
      "288\n",
      "300\n"
     ]
    }
   ],
   "source": [
    "n1=99  #rango de n1 a n2\n",
    "n2=300\n",
    "#rango de n1 a n2\n",
    "\n",
    "while (n1<n2):\n",
    "    n1 +=1\n",
    "    if (n1 % 12 != 0):\n",
    "        continue    \n",
    "    print(n1)\n",
    "    \n"
   ]
  },
  {
   "attachments": {},
   "cell_type": "markdown",
   "metadata": {},
   "source": [
    "13) Utilizar la función **input()** que permite hacer ingresos por teclado, para encontrar números primos y dar la opción al usario de buscar el siguiente"
   ]
  },
  {
   "cell_type": "code",
   "execution_count": 2,
   "metadata": {},
   "outputs": [
    {
     "name": "stdout",
     "output_type": "stream",
     "text": [
      "0\n",
      "1\n",
      "2\n",
      "3\n",
      "5\n",
      "7\n",
      "11\n",
      "13\n",
      "17\n",
      "Se termino el proceso\n"
     ]
    }
   ],
   "source": [
    "sigue = True\n",
    "n=0\n",
    "primo = True\n",
    "while (sigue == True):\n",
    "    for div in range(2, n):\n",
    "        if (n % div == 0):\n",
    "            primo = False\n",
    "            break\n",
    "    if (primo):\n",
    "        print(n)\n",
    "        a=input('¿Desea encontrar el siguiente número primo?')\n",
    "        if (a ==\"si\"):\n",
    "            sigue = True\n",
    "        else:\n",
    "            print('Se termino el proceso')\n",
    "            break\n",
    "    else:\n",
    "        primo = True\n",
    "    n +=1\n"
   ]
  },
  {
   "attachments": {},
   "cell_type": "markdown",
   "metadata": {},
   "source": [
    "14) Crear un ciclo while que encuentre dentro del rango de 100 a 300 el primer número divisible por 3 y además múltiplo de 6"
   ]
  },
  {
   "cell_type": "code",
   "execution_count": 3,
   "metadata": {},
   "outputs": [
    {
     "name": "stdout",
     "output_type": "stream",
     "text": [
      "El nùmero 102 es múltiplo de 6 y divisible por 3\n"
     ]
    }
   ],
   "source": [
    "n1=100  #rango de n1 a n2\n",
    "n2=300\n",
    "#rango de n1 a n2\n",
    "\n",
    "while (n1<n2):\n",
    "    n1 +=1\n",
    "    if (n1 % 6 ==0 ):\n",
    "        print(F'El nùmero {n1} es múltiplo de 6 y divisible por 3')\n",
    "        break"
   ]
  }
 ],
 "metadata": {
  "interpreter": {
   "hash": "c85384e4cb51c8b72350f3a8712cc8351fdc3955e32a27f9b60c6242ab125f01"
  },
  "kernelspec": {
   "display_name": "Python 3 (ipykernel)",
   "language": "python",
   "name": "python3"
  },
  "language_info": {
   "codemirror_mode": {
    "name": "ipython",
    "version": 3
   },
   "file_extension": ".py",
   "mimetype": "text/x-python",
   "name": "python",
   "nbconvert_exporter": "python",
   "pygments_lexer": "ipython3",
   "version": "3.12.1"
  }
 },
 "nbformat": 4,
 "nbformat_minor": 4
}
